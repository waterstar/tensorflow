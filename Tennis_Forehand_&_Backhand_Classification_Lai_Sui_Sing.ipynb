{
  "nbformat": 4,
  "nbformat_minor": 0,
  "metadata": {
    "colab": {
      "name": "Tennis Forehand & Backhand Classification - Lai Sui Sing.ipynb",
      "provenance": [],
      "toc_visible": true,
      "include_colab_link": true
    },
    "kernelspec": {
      "name": "python3",
      "display_name": "Python 3"
    },
    "accelerator": "GPU"
  },
  "cells": [
    {
      "cell_type": "markdown",
      "metadata": {
        "id": "view-in-github",
        "colab_type": "text"
      },
      "source": [
        "<a href=\"https://colab.research.google.com/github/waterstar/tensorflow/blob/master/Tennis_Forehand_%26_Backhand_Classification_Lai_Sui_Sing.ipynb\" target=\"_parent\"><img src=\"https://colab.research.google.com/assets/colab-badge.svg\" alt=\"Open In Colab\"/></a>"
      ]
    },
    {
      "cell_type": "markdown",
      "metadata": {
        "id": "OpYEyXjjXMJG",
        "colab_type": "text"
      },
      "source": [
        "# Tennis Forehand & Backhand Classification Project\n",
        "A project to train a model to tell a given image of a tennis player on court is doing a forehand or backhand swing. The model is based on Imagenet model called InceptionV3 to do Transfer Learning. All training data are from google image search + pinterest. "
      ]
    },
    {
      "cell_type": "markdown",
      "metadata": {
        "id": "Oj5QHR5pbchl",
        "colab_type": "text"
      },
      "source": [
        "### install tensorflow"
      ]
    },
    {
      "cell_type": "code",
      "metadata": {
        "id": "DciQT8VUI3sN",
        "colab_type": "code",
        "colab": {
          "base_uri": "https://localhost:8080/",
          "height": 67
        },
        "outputId": "451ad4ef-72cb-44ea-8fb7-80fc14512e6a"
      },
      "source": [
        "!pip install -qq tensorflow-gpu==2.0.0-rc1"
      ],
      "execution_count": 1,
      "outputs": [
        {
          "output_type": "stream",
          "text": [
            "\u001b[K     |████████████████████████████████| 380.5MB 30kB/s \n",
            "\u001b[K     |████████████████████████████████| 4.3MB 32.2MB/s \n",
            "\u001b[K     |████████████████████████████████| 501kB 49.9MB/s \n",
            "\u001b[?25h"
          ],
          "name": "stdout"
        }
      ]
    },
    {
      "cell_type": "markdown",
      "metadata": {
        "id": "G5DOPsH1Wwzb",
        "colab_type": "text"
      },
      "source": [
        "## Mount my google drive to access training data"
      ]
    },
    {
      "cell_type": "code",
      "metadata": {
        "id": "jNw1L3ivq3rA",
        "colab_type": "code",
        "outputId": "323e8041-8fed-44af-998b-ca66e637df6b",
        "colab": {
          "base_uri": "https://localhost:8080/",
          "height": 121
        }
      },
      "source": [
        "from google.colab import drive\n",
        "drive.mount('/content/drive')"
      ],
      "execution_count": 5,
      "outputs": [
        {
          "output_type": "stream",
          "text": [
            "Go to this URL in a browser: https://accounts.google.com/o/oauth2/auth?client_id=947318989803-6bn6qk8qdgf4n4g3pfee6491hc0brc4i.apps.googleusercontent.com&redirect_uri=urn%3Aietf%3Awg%3Aoauth%3A2.0%3Aoob&scope=email%20https%3A%2F%2Fwww.googleapis.com%2Fauth%2Fdocs.test%20https%3A%2F%2Fwww.googleapis.com%2Fauth%2Fdrive%20https%3A%2F%2Fwww.googleapis.com%2Fauth%2Fdrive.photos.readonly%20https%3A%2F%2Fwww.googleapis.com%2Fauth%2Fpeopleapi.readonly&response_type=code\n",
            "\n",
            "Enter your authorization code:\n",
            "··········\n",
            "Mounted at /content/drive\n"
          ],
          "name": "stdout"
        }
      ]
    },
    {
      "cell_type": "code",
      "metadata": {
        "id": "uUPJsW9MKsiC",
        "colab_type": "code",
        "colab": {}
      },
      "source": [
        "!unzip -qq /content/drive/My\\ Drive/forehand.zip"
      ],
      "execution_count": 0,
      "outputs": []
    },
    {
      "cell_type": "code",
      "metadata": {
        "id": "vIWDrYDOLTI9",
        "colab_type": "code",
        "colab": {}
      },
      "source": [
        "!unzip -qq /content/drive/My\\ Drive/backhand.zip"
      ],
      "execution_count": 0,
      "outputs": []
    },
    {
      "cell_type": "code",
      "metadata": {
        "id": "9jCwjj_wLso-",
        "colab_type": "code",
        "outputId": "53636afa-d15f-4a10-896b-d74067bfe00e",
        "colab": {
          "base_uri": "https://localhost:8080/",
          "height": 35
        }
      },
      "source": [
        "!ls"
      ],
      "execution_count": 0,
      "outputs": [
        {
          "output_type": "stream",
          "text": [
            "backhand  drive  forehand  __MACOSX  sample_data\n"
          ],
          "name": "stdout"
        }
      ]
    },
    {
      "cell_type": "code",
      "metadata": {
        "id": "aOdcQhGsQaUM",
        "colab_type": "code",
        "colab": {}
      },
      "source": [
        "!rm -r __MACOSX"
      ],
      "execution_count": 0,
      "outputs": []
    },
    {
      "cell_type": "markdown",
      "metadata": {
        "id": "JjW7TrlMeo39",
        "colab_type": "text"
      },
      "source": [
        "#### unmount my google drive"
      ]
    },
    {
      "cell_type": "code",
      "metadata": {
        "id": "Yi9hvex6L1Rb",
        "colab_type": "code",
        "colab": {}
      },
      "source": [
        "drive.flush_and_unmount()"
      ],
      "execution_count": 0,
      "outputs": []
    },
    {
      "cell_type": "markdown",
      "metadata": {
        "id": "OWC4g3ZCbvOQ",
        "colab_type": "text"
      },
      "source": [
        "### move training data to data folder"
      ]
    },
    {
      "cell_type": "code",
      "metadata": {
        "id": "qfWXvbmYUvgj",
        "colab_type": "code",
        "colab": {}
      },
      "source": [
        "!mkdir data"
      ],
      "execution_count": 0,
      "outputs": []
    },
    {
      "cell_type": "code",
      "metadata": {
        "id": "4nDRFJrwVDOU",
        "colab_type": "code",
        "colab": {}
      },
      "source": [
        "!mv forehand data\n",
        "!mv backhand data"
      ],
      "execution_count": 0,
      "outputs": []
    },
    {
      "cell_type": "markdown",
      "metadata": {
        "id": "Ar771PWze7GR",
        "colab_type": "text"
      },
      "source": [
        "## Import Tensorflow and check if it uses GPU on virtual machine"
      ]
    },
    {
      "cell_type": "code",
      "metadata": {
        "id": "eW8daUuEqhcU",
        "colab_type": "code",
        "outputId": "7567bb52-052c-4659-c769-afad2efcdcf8",
        "colab": {
          "base_uri": "https://localhost:8080/",
          "height": 34
        }
      },
      "source": [
        "import tensorflow as tf\n",
        "device_name = tf.test.gpu_device_name()\n",
        "# if device_name != '/device:GPU:0':\n",
        "#   raise SystemError('GPU device not found')\n",
        "print('Found GPU at: {}'.format(device_name))"
      ],
      "execution_count": 2,
      "outputs": [
        {
          "output_type": "stream",
          "text": [
            "Found GPU at: /device:GPU:0\n"
          ],
          "name": "stdout"
        }
      ]
    },
    {
      "cell_type": "markdown",
      "metadata": {
        "id": "4RY7Q3MhfKaS",
        "colab_type": "text"
      },
      "source": [
        "#### check if Tensorflow and Keras has the right version"
      ]
    },
    {
      "cell_type": "code",
      "metadata": {
        "id": "lhsnczi6tiUS",
        "colab_type": "code",
        "outputId": "6b72b4cc-febf-4374-bf8a-5cae84c55297",
        "colab": {
          "base_uri": "https://localhost:8080/",
          "height": 50
        }
      },
      "source": [
        "print(tf.keras.__version__)\n",
        "print(tf.__version__)"
      ],
      "execution_count": 3,
      "outputs": [
        {
          "output_type": "stream",
          "text": [
            "2.2.4-tf\n",
            "2.0.0-rc1\n"
          ],
          "name": "stdout"
        }
      ]
    },
    {
      "cell_type": "markdown",
      "metadata": {
        "id": "kkGhFwpufUaH",
        "colab_type": "text"
      },
      "source": [
        "## Import all the libraries we need"
      ]
    },
    {
      "cell_type": "code",
      "metadata": {
        "id": "T5XE5aUW_zdN",
        "colab_type": "code",
        "colab": {}
      },
      "source": [
        "%matplotlib inline\n",
        "import matplotlib.pyplot as ply\n",
        "\n",
        "import os, json\n",
        "from glob import glob\n",
        "\n",
        "from tensorflow.keras.preprocessing import image\n",
        "from tensorflow.keras.preprocessing.image import ImageDataGenerator\n",
        "\n",
        "from tensorflow.keras.models import Model,load_model,Sequential\n",
        "\n",
        "from tensorflow.keras.layers import Dense, GlobalAveragePooling2D, Dropout,Flatten, Input\n",
        "from tensorflow.keras import backend as K\n",
        "\n",
        "import tensorflow as tf\n"
      ],
      "execution_count": 0,
      "outputs": []
    },
    {
      "cell_type": "markdown",
      "metadata": {
        "id": "98jCCnFff9mL",
        "colab_type": "text"
      },
      "source": [
        "## Create dataframe from image filename, class name (back/forehand) and class (0:backhand, 1:forehand)"
      ]
    },
    {
      "cell_type": "code",
      "metadata": {
        "id": "2tcpqFpr_zdZ",
        "colab_type": "code",
        "outputId": "233d527b-f760-4bbc-cbd0-274f5741d7ff",
        "colab": {
          "base_uri": "https://localhost:8080/",
          "height": 208
        }
      },
      "source": [
        "img_width, img_height = 299, 299\n",
        "\n",
        "path = \"./data/\"\n",
        "validation_data_dir = \"./data/valid/\"\n",
        "\n",
        "import glob\n",
        "import pandas as pd\n",
        "\n",
        "\n",
        "data = []\n",
        "for root, dirs, files in os.walk(path, topdown=True):\n",
        "  for name in files:\n",
        "    if ('.jpg' not in name and '.jpeg' not in name):\n",
        "      continue\n",
        "    filename = os.path.abspath(os.path.join(root, name))\n",
        "    class_name = os.path.basename(root)\n",
        "    data.append((filename, class_name))\n",
        "\n",
        "df = pd.DataFrame(data, columns=['filename', 'class_name'])\n",
        "\n",
        "df['class_name'] = df['class_name'].astype('category')\n",
        "df['class'] = df['class_name'].cat.codes\n",
        "\n",
        "#shuffle\n",
        "df = df.sample(frac=1).reset_index(drop=True)\n",
        "\n",
        "print(df.head())\n",
        "print(len(df))\n",
        "df.dtypes"
      ],
      "execution_count": 0,
      "outputs": [
        {
          "output_type": "stream",
          "text": [
            "                                            filename class_name  class\n",
            "0  /content/data/backhand/images - 2019-09-21T122...   backhand      0\n",
            "1  /content/data/forehand/images - 2019-09-21T114...   forehand      1\n",
            "2  /content/data/forehand/images - 2019-09-21T113...   forehand      1\n",
            "3            /content/data/backhand/images (71).jpeg   backhand      0\n",
            "4  /content/data/forehand/images - 2019-09-21T114...   forehand      1\n",
            "1053\n"
          ],
          "name": "stdout"
        },
        {
          "output_type": "execute_result",
          "data": {
            "text/plain": [
              "filename        object\n",
              "class_name    category\n",
              "class             int8\n",
              "dtype: object"
            ]
          },
          "metadata": {
            "tags": []
          },
          "execution_count": 28
        }
      ]
    },
    {
      "cell_type": "code",
      "metadata": {
        "id": "LkU4bh_Qb8kX",
        "colab_type": "code",
        "outputId": "095c5f08-affa-4986-c6d5-54ba279c1d54",
        "colab": {
          "base_uri": "https://localhost:8080/",
          "height": 355
        }
      },
      "source": [
        "df.head(10)"
      ],
      "execution_count": 0,
      "outputs": [
        {
          "output_type": "execute_result",
          "data": {
            "text/html": [
              "<div>\n",
              "<style scoped>\n",
              "    .dataframe tbody tr th:only-of-type {\n",
              "        vertical-align: middle;\n",
              "    }\n",
              "\n",
              "    .dataframe tbody tr th {\n",
              "        vertical-align: top;\n",
              "    }\n",
              "\n",
              "    .dataframe thead th {\n",
              "        text-align: right;\n",
              "    }\n",
              "</style>\n",
              "<table border=\"1\" class=\"dataframe\">\n",
              "  <thead>\n",
              "    <tr style=\"text-align: right;\">\n",
              "      <th></th>\n",
              "      <th>filename</th>\n",
              "      <th>class_name</th>\n",
              "      <th>class</th>\n",
              "    </tr>\n",
              "  </thead>\n",
              "  <tbody>\n",
              "    <tr>\n",
              "      <th>0</th>\n",
              "      <td>/content/data/backhand/images - 2019-09-21T122...</td>\n",
              "      <td>backhand</td>\n",
              "      <td>0</td>\n",
              "    </tr>\n",
              "    <tr>\n",
              "      <th>1</th>\n",
              "      <td>/content/data/forehand/images - 2019-09-21T114...</td>\n",
              "      <td>forehand</td>\n",
              "      <td>1</td>\n",
              "    </tr>\n",
              "    <tr>\n",
              "      <th>2</th>\n",
              "      <td>/content/data/forehand/images - 2019-09-21T113...</td>\n",
              "      <td>forehand</td>\n",
              "      <td>1</td>\n",
              "    </tr>\n",
              "    <tr>\n",
              "      <th>3</th>\n",
              "      <td>/content/data/backhand/images (71).jpeg</td>\n",
              "      <td>backhand</td>\n",
              "      <td>0</td>\n",
              "    </tr>\n",
              "    <tr>\n",
              "      <th>4</th>\n",
              "      <td>/content/data/forehand/images - 2019-09-21T114...</td>\n",
              "      <td>forehand</td>\n",
              "      <td>1</td>\n",
              "    </tr>\n",
              "    <tr>\n",
              "      <th>5</th>\n",
              "      <td>/content/data/backhand/6a00adb1721cd0117f32db0...</td>\n",
              "      <td>backhand</td>\n",
              "      <td>0</td>\n",
              "    </tr>\n",
              "    <tr>\n",
              "      <th>6</th>\n",
              "      <td>/content/data/forehand/a2262c07cf2ebb87dc12a92...</td>\n",
              "      <td>forehand</td>\n",
              "      <td>1</td>\n",
              "    </tr>\n",
              "    <tr>\n",
              "      <th>7</th>\n",
              "      <td>/content/data/backhand/images - 2019-09-21T122...</td>\n",
              "      <td>backhand</td>\n",
              "      <td>0</td>\n",
              "    </tr>\n",
              "    <tr>\n",
              "      <th>8</th>\n",
              "      <td>/content/data/backhand/images (74).jpeg</td>\n",
              "      <td>backhand</td>\n",
              "      <td>0</td>\n",
              "    </tr>\n",
              "    <tr>\n",
              "      <th>9</th>\n",
              "      <td>/content/data/forehand/2Q__.jpg</td>\n",
              "      <td>forehand</td>\n",
              "      <td>1</td>\n",
              "    </tr>\n",
              "  </tbody>\n",
              "</table>\n",
              "</div>"
            ],
            "text/plain": [
              "                                            filename class_name  class\n",
              "0  /content/data/backhand/images - 2019-09-21T122...   backhand      0\n",
              "1  /content/data/forehand/images - 2019-09-21T114...   forehand      1\n",
              "2  /content/data/forehand/images - 2019-09-21T113...   forehand      1\n",
              "3            /content/data/backhand/images (71).jpeg   backhand      0\n",
              "4  /content/data/forehand/images - 2019-09-21T114...   forehand      1\n",
              "5  /content/data/backhand/6a00adb1721cd0117f32db0...   backhand      0\n",
              "6  /content/data/forehand/a2262c07cf2ebb87dc12a92...   forehand      1\n",
              "7  /content/data/backhand/images - 2019-09-21T122...   backhand      0\n",
              "8            /content/data/backhand/images (74).jpeg   backhand      0\n",
              "9                    /content/data/forehand/2Q__.jpg   forehand      1"
            ]
          },
          "metadata": {
            "tags": []
          },
          "execution_count": 29
        }
      ]
    },
    {
      "cell_type": "code",
      "metadata": {
        "id": "ZMzcz2WMcExb",
        "colab_type": "code",
        "outputId": "140ae1fc-bdd0-45aa-aa21-88747ab6a107",
        "colab": {
          "base_uri": "https://localhost:8080/",
          "height": 35
        }
      },
      "source": [
        "df.shape"
      ],
      "execution_count": 0,
      "outputs": [
        {
          "output_type": "execute_result",
          "data": {
            "text/plain": [
              "(1053, 3)"
            ]
          },
          "metadata": {
            "tags": []
          },
          "execution_count": 31
        }
      ]
    },
    {
      "cell_type": "markdown",
      "metadata": {
        "id": "kHUTNCk2hv6e",
        "colab_type": "text"
      },
      "source": [
        "## Split dataframe to training and test data"
      ]
    },
    {
      "cell_type": "code",
      "metadata": {
        "id": "oAKci0JH6BzR",
        "colab_type": "code",
        "colab": {}
      },
      "source": [
        "# Split into train and validation sets\n",
        "train_set_percentage = .9\n",
        "\n",
        "\n",
        "df = df[:int(len(df)*train_set_percentage)]\n",
        "df_val = df[int(len(df)*train_set_percentage):]\n",
        "\n",
        "# shuffle \n",
        "df = df.sample(frac=1).reset_index(drop=True)\n",
        "df_val = df_val.sample(frac=1).reset_index(drop=True)"
      ],
      "execution_count": 0,
      "outputs": []
    },
    {
      "cell_type": "code",
      "metadata": {
        "id": "jF_5aV3RdXl-",
        "colab_type": "code",
        "outputId": "b3011007-fd14-4fee-9c8a-de845dfafd87",
        "colab": {
          "base_uri": "https://localhost:8080/",
          "height": 35
        }
      },
      "source": [
        "df_val.shape"
      ],
      "execution_count": 0,
      "outputs": [
        {
          "output_type": "execute_result",
          "data": {
            "text/plain": [
              "(95, 3)"
            ]
          },
          "metadata": {
            "tags": []
          },
          "execution_count": 33
        }
      ]
    },
    {
      "cell_type": "markdown",
      "metadata": {
        "id": "mvtqnp5BiI8P",
        "colab_type": "text"
      },
      "source": [
        "## Define the function to read in each jpeg file to decode and resize it"
      ]
    },
    {
      "cell_type": "code",
      "metadata": {
        "id": "qd2z9MxO4Pk4",
        "colab_type": "code",
        "colab": {}
      },
      "source": [
        "# Reads an image from a file, decodes it into a tensor, and resizes it\n",
        "# to a fixed shape.\n",
        "img_rows, img_cols = 299,299\n",
        "num_classes = 2\n",
        "batch_size = 32\n",
        "\n",
        "def _parse_function(filename, label):\n",
        "  image_string = tf.io.read_file(filename)\n",
        "  image_decoded = tf.image.decode_jpeg(image_string,channels=3)\n",
        "  image_resized = tf.image.resize(image_decoded, [img_rows, img_cols])\n",
        "  image_resized = tf.ensure_shape(image_resized ,shape=(img_rows, img_cols,3))\n",
        "  image_processed = tf.keras.applications.inception_v3.preprocess_input(image_resized) \n",
        "  label = tf.one_hot(label, num_classes)\n",
        "  return image_processed, label"
      ],
      "execution_count": 0,
      "outputs": []
    },
    {
      "cell_type": "markdown",
      "metadata": {
        "id": "fBFYQyHjikJW",
        "colab_type": "text"
      },
      "source": [
        "## from the dataframe (train & test) create the dataset and loop it through function defined above"
      ]
    },
    {
      "cell_type": "code",
      "metadata": {
        "id": "xwpR_kFx7Mpn",
        "colab_type": "code",
        "colab": {}
      },
      "source": [
        "train_dataset = tf.data.Dataset.from_tensor_slices((tf.cast(df['filename'].values, tf.string),\n",
        "                                                    tf.cast(df['class'].values, tf.int32) ))\n",
        "train_dataset = train_dataset.map(_parse_function)\n",
        "train_dataset = train_dataset.shuffle(5000)\n",
        "train_dataset = train_dataset.repeat()\n",
        "train_dataset = train_dataset.batch(batch_size, drop_remainder=True)"
      ],
      "execution_count": 0,
      "outputs": []
    },
    {
      "cell_type": "code",
      "metadata": {
        "id": "VEGpbHYweRQm",
        "colab_type": "code",
        "outputId": "3d345603-ae7a-465e-89bc-c02a242addaf",
        "colab": {
          "base_uri": "https://localhost:8080/",
          "height": 35
        }
      },
      "source": [
        "train_dataset"
      ],
      "execution_count": 0,
      "outputs": [
        {
          "output_type": "execute_result",
          "data": {
            "text/plain": [
              "<BatchDataset shapes: ((32, 299, 299, 3), (32, 2)), types: (tf.float32, tf.float32)>"
            ]
          },
          "metadata": {
            "tags": []
          },
          "execution_count": 36
        }
      ]
    },
    {
      "cell_type": "code",
      "metadata": {
        "id": "yeMHsKsL7Mvy",
        "colab_type": "code",
        "colab": {}
      },
      "source": [
        "valid_dataset = tf.data.Dataset.from_tensor_slices((tf.cast(df_val['filename'].values, tf.string),\n",
        "                                                    tf.cast(df_val['class'].values, tf.int32) ))\n",
        "valid_dataset = valid_dataset.map(_parse_function)\n",
        "valid_dataset = valid_dataset.repeat()\n",
        "valid_dataset = valid_dataset.batch(batch_size, drop_remainder=True)"
      ],
      "execution_count": 0,
      "outputs": []
    },
    {
      "cell_type": "markdown",
      "metadata": {
        "id": "3K7aZzNOjO8o",
        "colab_type": "text"
      },
      "source": [
        "## Create Base model from the Imagenet's InceptionV3"
      ]
    },
    {
      "cell_type": "code",
      "metadata": {
        "id": "lDgNpUSK_zdg",
        "colab_type": "code",
        "outputId": "a9222f4b-6ee3-4e91-8759-6c70d83e3072",
        "colab": {
          "base_uri": "https://localhost:8080/",
          "height": 72
        }
      },
      "source": [
        "# create the base pre-trained model\n",
        "base_model = tf.keras.applications.InceptionV3(weights='imagenet', include_top=False, input_shape=(299, 299, 3),pooling=None)\n"
      ],
      "execution_count": 0,
      "outputs": [
        {
          "output_type": "stream",
          "text": [
            "Downloading data from https://github.com/fchollet/deep-learning-models/releases/download/v0.5/inception_v3_weights_tf_dim_ordering_tf_kernels_notop.h5\n",
            "87916544/87910968 [==============================] - 8s 0us/step\n"
          ],
          "name": "stdout"
        }
      ]
    },
    {
      "cell_type": "code",
      "metadata": {
        "id": "EabM6z9h_zdj",
        "colab_type": "code",
        "colab": {}
      },
      "source": [
        "base_model.summary()"
      ],
      "execution_count": 0,
      "outputs": []
    },
    {
      "cell_type": "markdown",
      "metadata": {
        "id": "YDFgpkz2j_cX",
        "colab_type": "text"
      },
      "source": [
        "### Add a pooling layer, a fully-connected layer and a logit layer to the base model"
      ]
    },
    {
      "cell_type": "code",
      "metadata": {
        "id": "D6jtoHPC_zdm",
        "colab_type": "code",
        "colab": {}
      },
      "source": [
        "# add a global spatial average pooling layer\n",
        "x = base_model.output\n",
        "\n",
        "x = GlobalAveragePooling2D()(x)\n",
        "\n",
        "# let's add a fully-connected layer\n",
        "x = Dense(512, activation='relu')(x)\n",
        "\n",
        "# x = Dropout(0.3)(x)\n",
        "\n",
        "# and a logits layer -- let's say we have 2 classes\n",
        "predictions = Dense(2, activation='softmax')(x)\n"
      ],
      "execution_count": 0,
      "outputs": []
    },
    {
      "cell_type": "code",
      "metadata": {
        "id": "mJNP12F8_zdo",
        "colab_type": "code",
        "colab": {}
      },
      "source": [
        "# this is the model we will train\n",
        "model = Model(inputs=base_model.input, outputs=predictions)"
      ],
      "execution_count": 0,
      "outputs": []
    },
    {
      "cell_type": "markdown",
      "metadata": {
        "id": "dzXQ86VMkooF",
        "colab_type": "text"
      },
      "source": [
        "### use only the 'batch_normalization' layer for training for the first attemp"
      ]
    },
    {
      "cell_type": "code",
      "metadata": {
        "id": "Fs1W-nVL_zdr",
        "colab_type": "code",
        "colab": {}
      },
      "source": [
        "# first: train only the top layers (which were randomly initialized)\n",
        "# i.e. freeze all convolutional InceptionV3 layers\n",
        "for layer in base_model.layers:\n",
        "    if 'batch_normalization' in layer.name:\n",
        "      print(layer.name)\n",
        "      layer.trainable = True\n",
        "    else:\n",
        "      print(layer.name)\n",
        "      layer.trainable = False\n"
      ],
      "execution_count": 0,
      "outputs": []
    },
    {
      "cell_type": "code",
      "metadata": {
        "id": "UUdVpa6M_zdu",
        "colab_type": "code",
        "colab": {}
      },
      "source": [
        "for layer in model.layers:\n",
        "    print(layer.name,' Trainable =',layer.trainable)"
      ],
      "execution_count": 0,
      "outputs": []
    },
    {
      "cell_type": "code",
      "metadata": {
        "id": "Kwr7-Clt6M25",
        "colab_type": "code",
        "colab": {}
      },
      "source": [
        "model.summary()"
      ],
      "execution_count": 0,
      "outputs": []
    },
    {
      "cell_type": "markdown",
      "metadata": {
        "id": "KkDL7TmOk0Jb",
        "colab_type": "text"
      },
      "source": [
        "### use Adam optimizer and 'categorical_crossentropy' loss function"
      ]
    },
    {
      "cell_type": "code",
      "metadata": {
        "id": "3h5gZCzH_zdy",
        "colab_type": "code",
        "colab": {}
      },
      "source": [
        "opt = tf.keras.optimizers.Adam(lr=0.001)\n",
        "\n",
        "# compile the model (should be done *after* setting layers to non-trainable)\n",
        "model.compile(optimizer=opt, loss='categorical_crossentropy',metrics=['accuracy'])"
      ],
      "execution_count": 0,
      "outputs": []
    },
    {
      "cell_type": "markdown",
      "metadata": {
        "id": "cggca9PdlJ3K",
        "colab_type": "text"
      },
      "source": [
        "### define train steps and validation steps"
      ]
    },
    {
      "cell_type": "code",
      "metadata": {
        "id": "pD7vN-nf_zd0",
        "colab_type": "code",
        "outputId": "071406c9-382f-4e4f-8cfb-45d97ecfedc6",
        "colab": {
          "base_uri": "https://localhost:8080/",
          "height": 52
        }
      },
      "source": [
        "train_steps = int(1053/32) #total trains set / batch_size\n",
        "val_steps = int(95/32)\n",
        "epochs = 1\n",
        "\n",
        "print('train steps:',train_steps)\n",
        "print('val steps:',val_steps)"
      ],
      "execution_count": 0,
      "outputs": [
        {
          "output_type": "stream",
          "text": [
            "train steps: 32\n",
            "val steps: 2\n"
          ],
          "name": "stdout"
        }
      ]
    },
    {
      "cell_type": "markdown",
      "metadata": {
        "id": "eSPP7pYCld1r",
        "colab_type": "text"
      },
      "source": [
        "### run frist epoch"
      ]
    },
    {
      "cell_type": "code",
      "metadata": {
        "id": "DGGH-czf_zd2",
        "colab_type": "code",
        "outputId": "8652fe97-a8d0-448f-e512-68eac84dd463",
        "colab": {
          "base_uri": "https://localhost:8080/",
          "height": 52
        }
      },
      "source": [
        "### Train the model with validation \n",
        "history = model.fit( train_dataset, \n",
        "                    steps_per_epoch = train_steps,\n",
        "                   epochs = epochs,\n",
        "                   validation_data = valid_dataset,\n",
        "                   validation_steps = val_steps)"
      ],
      "execution_count": 0,
      "outputs": [
        {
          "output_type": "stream",
          "text": [
            "Train for 32 steps, validate for 2 steps\n",
            "32/32 [==============================] - 48s 1s/step - loss: 0.8664 - accuracy: 0.5576 - val_loss: 0.6076 - val_accuracy: 0.7344\n"
          ],
          "name": "stdout"
        }
      ]
    },
    {
      "cell_type": "markdown",
      "metadata": {
        "id": "Et52mcgMlom3",
        "colab_type": "text"
      },
      "source": [
        "### run another 4 epochs"
      ]
    },
    {
      "cell_type": "code",
      "metadata": {
        "id": "AoR6a2jj9PeF",
        "colab_type": "code",
        "outputId": "8de4a6f3-b068-4280-ddcb-78ea39e55ced",
        "colab": {
          "base_uri": "https://localhost:8080/",
          "height": 173
        }
      },
      "source": [
        "epochs = 4\n",
        "\n",
        "### Train the model with validation \n",
        "history = model.fit( train_dataset, steps_per_epoch = train_steps,\n",
        "                   epochs = epochs,\n",
        "                   validation_data = valid_dataset,\n",
        "                   validation_steps = val_steps)"
      ],
      "execution_count": 0,
      "outputs": [
        {
          "output_type": "stream",
          "text": [
            "Train for 32 steps, validate for 2 steps\n",
            "Epoch 1/4\n",
            "32/32 [==============================] - 28s 889ms/step - loss: 0.6214 - accuracy: 0.6650 - val_loss: 0.5766 - val_accuracy: 0.7031\n",
            "Epoch 2/4\n",
            "32/32 [==============================] - 26s 806ms/step - loss: 0.5811 - accuracy: 0.7070 - val_loss: 0.5005 - val_accuracy: 0.7969\n",
            "Epoch 3/4\n",
            "32/32 [==============================] - 26s 806ms/step - loss: 0.5092 - accuracy: 0.7686 - val_loss: 0.4313 - val_accuracy: 0.7812\n",
            "Epoch 4/4\n",
            "32/32 [==============================] - 26s 804ms/step - loss: 0.4789 - accuracy: 0.7617 - val_loss: 0.3473 - val_accuracy: 0.8281\n"
          ],
          "name": "stdout"
        }
      ]
    },
    {
      "cell_type": "markdown",
      "metadata": {
        "id": "ciWJg9I3lveq",
        "colab_type": "text"
      },
      "source": [
        "## Adjust the training model by using a known (based on others experiences) layer number 249"
      ]
    },
    {
      "cell_type": "code",
      "metadata": {
        "id": "Yp_oUYMvTwQW",
        "colab_type": "code",
        "colab": {}
      },
      "source": [
        "# blocks 172 or 249\n",
        "for layer in model.layers[:249]:\n",
        "    if 'batch_normalization' in layer.name:\n",
        "      layer.trainable = True\n",
        "      print(layer.name,':',layer.trainable)\n",
        "    else:\n",
        "      layer.trainable = False\n",
        "      print(layer.name,':',layer.trainable)\n",
        "for layer in model.layers[249:]:\n",
        "    layer.trainable = True\n",
        "    print(layer.name,':',layer.trainable)"
      ],
      "execution_count": 0,
      "outputs": []
    },
    {
      "cell_type": "markdown",
      "metadata": {
        "id": "LPtFafRAnIzs",
        "colab_type": "text"
      },
      "source": [
        "### train for another 4 more epochs"
      ]
    },
    {
      "cell_type": "code",
      "metadata": {
        "id": "nNh6W6xq_zeX",
        "colab_type": "code",
        "outputId": "f493949b-8862-4a40-d6d8-1c5bc40b5159",
        "colab": {
          "base_uri": "https://localhost:8080/",
          "height": 173
        }
      },
      "source": [
        "# # Train the model with validation \n",
        "history = model.fit( train_dataset, steps_per_epoch = train_steps,\n",
        "                   epochs = 4,\n",
        "                   validation_data = valid_dataset,\n",
        "                   validation_steps = val_steps)"
      ],
      "execution_count": 0,
      "outputs": [
        {
          "output_type": "stream",
          "text": [
            "Train for 32 steps, validate for 2 steps\n",
            "Epoch 1/4\n",
            "32/32 [==============================] - 29s 897ms/step - loss: 0.3930 - accuracy: 0.8291 - val_loss: 0.2735 - val_accuracy: 0.9375\n",
            "Epoch 2/4\n",
            "32/32 [==============================] - 26s 803ms/step - loss: 0.3239 - accuracy: 0.8701 - val_loss: 0.2699 - val_accuracy: 0.8438\n",
            "Epoch 3/4\n",
            "32/32 [==============================] - 26s 807ms/step - loss: 0.2700 - accuracy: 0.8965 - val_loss: 0.1786 - val_accuracy: 0.9375\n",
            "Epoch 4/4\n",
            "32/32 [==============================] - 26s 806ms/step - loss: 0.1993 - accuracy: 0.9268 - val_loss: 0.1187 - val_accuracy: 0.9688\n"
          ],
          "name": "stdout"
        }
      ]
    },
    {
      "cell_type": "markdown",
      "metadata": {
        "id": "fsnD0f1FnUYB",
        "colab_type": "text"
      },
      "source": [
        "#### reload the saved model in google drive"
      ]
    },
    {
      "cell_type": "code",
      "metadata": {
        "id": "ZCcrHb7BqBm7",
        "colab_type": "code",
        "colab": {}
      },
      "source": [
        "from tensorflow import keras\n",
        "saved_model = keras.models.load_model('/content/drive/My Drive/tensorflow/fh_bh_model')"
      ],
      "execution_count": 0,
      "outputs": []
    },
    {
      "cell_type": "markdown",
      "metadata": {
        "id": "widRh-o1pRlQ",
        "colab_type": "text"
      },
      "source": [
        "## Test the model with a image from an ATP match (show on youtube)\n",
        "### the image is crop to half court to ensure that the model only predict one player. I have intentionally choosed a hard-to-tell image as the player is in the transition to the forehand "
      ]
    },
    {
      "cell_type": "code",
      "metadata": {
        "id": "9PNPfWotsZie",
        "colab_type": "code",
        "outputId": "4c75ea85-c38f-4c23-f910-3e24b72073eb",
        "colab": {
          "base_uri": "https://localhost:8080/",
          "height": 452
        }
      },
      "source": [
        "from IPython.display import Image\n",
        "\n",
        "image_check = '0120 copy.jpg'\n",
        "\n",
        "Image(image_check)"
      ],
      "execution_count": 7,
      "outputs": [
        {
          "output_type": "execute_result",
          "data": {
            "image/jpeg": "[encoded data removed]",
            "text/plain": [
              "<IPython.core.display.Image object>"
            ]
          },
          "metadata": {
            "tags": []
          },
          "execution_count": 7
        }
      ]
    },
    {
      "cell_type": "code",
      "metadata": {
        "id": "p1CkLtol_zeD",
        "colab_type": "code",
        "outputId": "0a8d36a1-e0cb-4fbf-bdf1-aeab228dcc7f",
        "colab": {
          "base_uri": "https://localhost:8080/",
          "height": 67
        }
      },
      "source": [
        "from keras.preprocessing import image\n",
        "from keras.applications.imagenet_utils import decode_predictions\n",
        "import numpy as np\n",
        "\n",
        "# img_path = os.path.join(image_path, image_check)\n",
        "print(image_check)\n",
        "img = image.load_img(image_check, target_size=(299, 299))\n",
        "# img_crop = img.crop((0, 299, 0, 150))\n",
        "# img_input = img_crop.resize((299,299))\n",
        "x = image.img_to_array(img)\n",
        "x = np.expand_dims(x, axis=0)\n",
        "x = tf.keras.applications.inception_v3.preprocess_input(x)\n",
        "print('Input image shape:', x.shape)"
      ],
      "execution_count": 8,
      "outputs": [
        {
          "output_type": "stream",
          "text": [
            "0120 copy.jpg\n",
            "Input image shape: (1, 299, 299, 3)\n"
          ],
          "name": "stdout"
        },
        {
          "output_type": "stream",
          "text": [
            "Using TensorFlow backend.\n"
          ],
          "name": "stderr"
        }
      ]
    },
    {
      "cell_type": "markdown",
      "metadata": {
        "id": "dulrUq3Op0fd",
        "colab_type": "text"
      },
      "source": [
        "## The result is rather satifying. As defined in training set, index 0 is backhand and index 1 is forehand. The prediction below show the model has 85% of confident that the player is doing forehand."
      ]
    },
    {
      "cell_type": "code",
      "metadata": {
        "id": "BEy4IZRN_zeH",
        "colab_type": "code",
        "colab": {
          "base_uri": "https://localhost:8080/",
          "height": 34
        },
        "outputId": "d6f9cc0b-4b33-4bec-dfc2-355c5f6e6368"
      },
      "source": [
        "preds = saved_model.predict(x)\n",
        "print('Predicted:', preds)"
      ],
      "execution_count": 9,
      "outputs": [
        {
          "output_type": "stream",
          "text": [
            "Predicted: [[0.14613062 0.8538693 ]]\n"
          ],
          "name": "stdout"
        }
      ]
    }
  ]
}